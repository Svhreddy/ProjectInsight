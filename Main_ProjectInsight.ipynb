{
  "nbformat": 4,
  "nbformat_minor": 0,
  "metadata": {
    "colab": {
      "name": "Untitled2.ipynb",
      "provenance": []
    },
    "kernelspec": {
      "name": "python3",
      "display_name": "Python 3"
    }
  },
  "cells": [
    {
      "cell_type": "code",
      "metadata": {
        "id": "NDyseBGqa1IG"
      },
      "source": [
        "#read more"
      ],
      "execution_count": null,
      "outputs": []
    }
  ]
}